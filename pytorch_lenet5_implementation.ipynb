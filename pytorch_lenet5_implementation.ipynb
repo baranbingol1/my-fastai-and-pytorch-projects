{
  "nbformat": 4,
  "nbformat_minor": 0,
  "metadata": {
    "colab": {
      "provenance": [],
      "gpuType": "T4"
    },
    "kernelspec": {
      "name": "python3",
      "display_name": "Python 3"
    },
    "language_info": {
      "name": "python"
    },
    "accelerator": "GPU"
  },
  "cells": [
    {
      "cell_type": "markdown",
      "source": [
        "# Imports and checking the data"
      ],
      "metadata": {
        "id": "N6LXlqVAACNq"
      }
    },
    {
      "cell_type": "code",
      "execution_count": 10,
      "metadata": {
        "id": "1ru3HO4E4G1M"
      },
      "outputs": [],
      "source": [
        "import os\n",
        "import matplotlib.pyplot as plt\n",
        "import numpy as np\n",
        "import torch\n",
        "from torch import nn\n",
        "import torchvision\n",
        "import torchvision.datasets as datasets\n",
        "import torchvision.transforms as T\n",
        "import torch.nn.functional as F\n",
        "\n",
        "device = \"cuda\" if torch.cuda.is_available() else \"cpu\""
      ]
    },
    {
      "cell_type": "code",
      "source": [
        "print(f\"On device : {device}\")"
      ],
      "metadata": {
        "colab": {
          "base_uri": "https://localhost:8080/"
        },
        "id": "dLljHHFh_A-6",
        "outputId": "e4c3077e-c46a-4998-c302-01d68aedebb0"
      },
      "execution_count": 2,
      "outputs": [
        {
          "output_type": "stream",
          "name": "stdout",
          "text": [
            "On device : cuda\n"
          ]
        }
      ]
    },
    {
      "cell_type": "code",
      "source": [
        "bs = 32\n",
        "num_workers = os.cpu_count()\n",
        "\n",
        "transform = T.Compose([T.Resize((32,32)), T.ToTensor(), T.Normalize((0.1307,), (0.3081,))])\n",
        "\n",
        "trainset = datasets.MNIST(root='./data', train=True, download=True, transform=transform)\n",
        "testset = datasets.MNIST(root='./data', train=False, download=True, transform=transform)\n",
        "\n",
        "trainloader = torch.utils.data.DataLoader(trainset, batch_size=bs, shuffle=True, num_workers=num_workers)\n",
        "testloader = torch.utils.data.DataLoader(testset, batch_size=bs, shuffle=False, num_workers=num_workers)"
      ],
      "metadata": {
        "id": "WXmi-t9z8RNk",
        "colab": {
          "base_uri": "https://localhost:8080/"
        },
        "outputId": "dc828e5d-b6e5-40f6-ce54-7ad493fba87f"
      },
      "execution_count": 3,
      "outputs": [
        {
          "output_type": "stream",
          "name": "stdout",
          "text": [
            "Downloading http://yann.lecun.com/exdb/mnist/train-images-idx3-ubyte.gz\n",
            "Downloading http://yann.lecun.com/exdb/mnist/train-images-idx3-ubyte.gz to ./data/MNIST/raw/train-images-idx3-ubyte.gz\n"
          ]
        },
        {
          "output_type": "stream",
          "name": "stderr",
          "text": [
            "100%|██████████| 9912422/9912422 [00:00<00:00, 113496227.99it/s]\n"
          ]
        },
        {
          "output_type": "stream",
          "name": "stdout",
          "text": [
            "Extracting ./data/MNIST/raw/train-images-idx3-ubyte.gz to ./data/MNIST/raw\n",
            "\n",
            "Downloading http://yann.lecun.com/exdb/mnist/train-labels-idx1-ubyte.gz\n",
            "Downloading http://yann.lecun.com/exdb/mnist/train-labels-idx1-ubyte.gz to ./data/MNIST/raw/train-labels-idx1-ubyte.gz\n"
          ]
        },
        {
          "output_type": "stream",
          "name": "stderr",
          "text": [
            "100%|██████████| 28881/28881 [00:00<00:00, 102138021.77it/s]"
          ]
        },
        {
          "output_type": "stream",
          "name": "stdout",
          "text": [
            "Extracting ./data/MNIST/raw/train-labels-idx1-ubyte.gz to ./data/MNIST/raw\n",
            "\n",
            "Downloading http://yann.lecun.com/exdb/mnist/t10k-images-idx3-ubyte.gz\n",
            "Downloading http://yann.lecun.com/exdb/mnist/t10k-images-idx3-ubyte.gz to ./data/MNIST/raw/t10k-images-idx3-ubyte.gz\n"
          ]
        },
        {
          "output_type": "stream",
          "name": "stderr",
          "text": [
            "\n",
            "100%|██████████| 1648877/1648877 [00:00<00:00, 28110637.16it/s]\n"
          ]
        },
        {
          "output_type": "stream",
          "name": "stdout",
          "text": [
            "Extracting ./data/MNIST/raw/t10k-images-idx3-ubyte.gz to ./data/MNIST/raw\n",
            "\n",
            "Downloading http://yann.lecun.com/exdb/mnist/t10k-labels-idx1-ubyte.gz\n",
            "Downloading http://yann.lecun.com/exdb/mnist/t10k-labels-idx1-ubyte.gz to ./data/MNIST/raw/t10k-labels-idx1-ubyte.gz\n"
          ]
        },
        {
          "output_type": "stream",
          "name": "stderr",
          "text": [
            "100%|██████████| 4542/4542 [00:00<00:00, 20617455.38it/s]\n"
          ]
        },
        {
          "output_type": "stream",
          "name": "stdout",
          "text": [
            "Extracting ./data/MNIST/raw/t10k-labels-idx1-ubyte.gz to ./data/MNIST/raw\n",
            "\n"
          ]
        }
      ]
    },
    {
      "cell_type": "code",
      "source": [
        "print(f\"Count of train images: {len(trainset)}\\nCount of test images: {len(testset)}\")"
      ],
      "metadata": {
        "colab": {
          "base_uri": "https://localhost:8080/"
        },
        "id": "HoZTfrRR5WU7",
        "outputId": "d81d3e71-ce7d-4c39-b441-2ea59d4048b3"
      },
      "execution_count": 4,
      "outputs": [
        {
          "output_type": "stream",
          "name": "stdout",
          "text": [
            "Count of train images: 60000\n",
            "Count of test images: 10000\n"
          ]
        }
      ]
    },
    {
      "cell_type": "code",
      "source": [
        "img, lbl = next(iter(trainloader))"
      ],
      "metadata": {
        "id": "w0jSp23S5iNP"
      },
      "execution_count": 5,
      "outputs": []
    },
    {
      "cell_type": "code",
      "source": [
        "img.shape, lbl.shape"
      ],
      "metadata": {
        "colab": {
          "base_uri": "https://localhost:8080/"
        },
        "id": "ME9kG6eG9D9-",
        "outputId": "7b7200f8-310b-4dd0-db02-eeac12451da2"
      },
      "execution_count": 6,
      "outputs": [
        {
          "output_type": "execute_result",
          "data": {
            "text/plain": [
              "(torch.Size([32, 1, 32, 32]), torch.Size([32]))"
            ]
          },
          "metadata": {},
          "execution_count": 6
        }
      ]
    },
    {
      "cell_type": "markdown",
      "source": [
        "# LeNet-5"
      ],
      "metadata": {
        "id": "dG6DqSf2AFwK"
      }
    },
    {
      "cell_type": "code",
      "source": [
        "class LeNet5(nn.Module):\n",
        "  def __init__(self):\n",
        "    super().__init__()\n",
        "    self.layer1 = nn.Sequential(\n",
        "        nn.Conv2d(in_channels=1, out_channels=6, kernel_size=5, stride=1),\n",
        "        nn.Tanh(),\n",
        "        nn.AvgPool2d(kernel_size=2, stride=2),\n",
        "\n",
        "        nn.Conv2d(in_channels=6, out_channels=16, kernel_size=5, stride=1),\n",
        "        nn.Tanh(),\n",
        "        nn.AvgPool2d(kernel_size=2, stride=2),\n",
        "\n",
        "        nn.Conv2d(in_channels=16, out_channels=120, kernel_size=5, stride=1),\n",
        "        nn.Tanh()\n",
        "        )\n",
        "    self.fc = nn.Sequential(\n",
        "        nn.Linear(120, 84),\n",
        "        nn.Tanh(),\n",
        "        nn.Linear(84, 10),\n",
        "    )\n",
        "\n",
        "  def forward(self, x):\n",
        "    x = self.layer1(x)\n",
        "    x = torch.flatten(x, 1)\n",
        "    x = self.fc(x)\n",
        "    x = F.softmax(x, dim=0)\n",
        "    return x"
      ],
      "metadata": {
        "id": "J8mXSgms9Eq8"
      },
      "execution_count": 7,
      "outputs": []
    },
    {
      "cell_type": "code",
      "source": [
        "model = LeNet5().to(device)\n",
        "\n",
        "criterion = nn.CrossEntropyLoss()\n",
        "optimizer = torch.optim.SGD(model.parameters(), lr=0.005, momentum=0.9)"
      ],
      "metadata": {
        "id": "QiNIBihZC3T9"
      },
      "execution_count": 8,
      "outputs": []
    },
    {
      "cell_type": "code",
      "source": [
        "total_step = len(trainloader)\n",
        "num_epochs = 10\n",
        "\n",
        "for epoch in range(num_epochs):\n",
        "    model.train()\n",
        "    train_loss_sum = 0.0\n",
        "\n",
        "    for i, (imgs, lbls) in enumerate(trainloader):\n",
        "        imgs, lbls = imgs.to(device), lbls.to(device)\n",
        "\n",
        "        outputs = model(imgs)\n",
        "        loss = criterion(outputs, lbls)\n",
        "        train_loss_sum += loss.item()\n",
        "\n",
        "        optimizer.zero_grad()\n",
        "        loss.backward()\n",
        "        optimizer.step()\n",
        "\n",
        "        if (i+1) % 400 == 0:\n",
        "            print ('Epoch [{}/{}], Step [{}/{}], Train Loss: {:.4f}'\n",
        "                   .format(epoch+1, num_epochs, i+1, total_step, loss.item()))\n",
        "\n",
        "    train_loss_avg = train_loss_sum / len(trainloader)\n",
        "\n",
        "    model.eval()\n",
        "    total_val_loss = 0\n",
        "    correct = 0\n",
        "    total = 0\n",
        "\n",
        "    with torch.inference_mode():\n",
        "        for val_imgs, val_lbls in testloader:\n",
        "            val_imgs, val_lbls = val_imgs.to(device), val_lbls.to(device)\n",
        "            val_outputs = model(val_imgs)\n",
        "            val_loss = criterion(val_outputs, val_lbls)\n",
        "            total_val_loss += val_loss.item()\n",
        "\n",
        "            _, predicted = val_outputs.max(1)\n",
        "            total += val_lbls.size(0)\n",
        "            correct += predicted.eq(val_lbls).sum().item()\n",
        "\n",
        "    val_accuracy = 100 * correct / total\n",
        "    avg_val_loss = total_val_loss / len(testloader)\n",
        "\n",
        "    print('Validation - Epoch [{}/{}], Test Loss: {:.4f}, Test Accuracy: {:.2f}%'\n",
        "          .format(epoch+1, num_epochs, avg_val_loss, val_accuracy))\n",
        "\n",
        "    print('Epoch [{}/{}], Average Train Loss: {:.4f}'\n",
        "          .format(epoch+1, num_epochs, train_loss_avg))"
      ],
      "metadata": {
        "colab": {
          "base_uri": "https://localhost:8080/"
        },
        "id": "q1psThIREAI7",
        "outputId": "b053c904-7a45-49e6-b40e-2241a04e33c1"
      },
      "execution_count": 9,
      "outputs": [
        {
          "output_type": "stream",
          "name": "stdout",
          "text": [
            "Epoch [1/10], Step [400/1875], Train Loss: 2.3016\n",
            "Epoch [1/10], Step [800/1875], Train Loss: 2.2985\n",
            "Epoch [1/10], Step [1200/1875], Train Loss: 2.2907\n",
            "Epoch [1/10], Step [1600/1875], Train Loss: 2.2638\n",
            "Validation - Epoch [1/10], Test Loss: 2.2344, Test Accuracy: 69.51%\n",
            "Epoch [1/10], Average Train Loss: 2.2873\n",
            "Epoch [2/10], Step [400/1875], Train Loss: 2.1725\n",
            "Epoch [2/10], Step [800/1875], Train Loss: 2.1248\n",
            "Epoch [2/10], Step [1200/1875], Train Loss: 2.1269\n",
            "Epoch [2/10], Step [1600/1875], Train Loss: 2.1066\n",
            "Validation - Epoch [2/10], Test Loss: 2.0737, Test Accuracy: 83.53%\n",
            "Epoch [2/10], Average Train Loss: 2.1378\n",
            "Epoch [3/10], Step [400/1875], Train Loss: 2.0812\n",
            "Epoch [3/10], Step [800/1875], Train Loss: 2.1045\n",
            "Epoch [3/10], Step [1200/1875], Train Loss: 2.0432\n",
            "Epoch [3/10], Step [1600/1875], Train Loss: 2.0689\n",
            "Validation - Epoch [3/10], Test Loss: 2.0553, Test Accuracy: 86.58%\n",
            "Epoch [3/10], Average Train Loss: 2.0658\n",
            "Epoch [4/10], Step [400/1875], Train Loss: 2.0369\n",
            "Epoch [4/10], Step [800/1875], Train Loss: 2.0377\n",
            "Epoch [4/10], Step [1200/1875], Train Loss: 2.0653\n",
            "Epoch [4/10], Step [1600/1875], Train Loss: 2.0358\n",
            "Validation - Epoch [4/10], Test Loss: 2.0510, Test Accuracy: 87.62%\n",
            "Epoch [4/10], Average Train Loss: 2.0567\n",
            "Epoch [5/10], Step [400/1875], Train Loss: 2.0405\n",
            "Epoch [5/10], Step [800/1875], Train Loss: 2.0748\n",
            "Epoch [5/10], Step [1200/1875], Train Loss: 2.0362\n",
            "Epoch [5/10], Step [1600/1875], Train Loss: 2.0862\n",
            "Validation - Epoch [5/10], Test Loss: 2.0487, Test Accuracy: 88.41%\n",
            "Epoch [5/10], Average Train Loss: 2.0527\n",
            "Epoch [6/10], Step [400/1875], Train Loss: 2.0322\n",
            "Epoch [6/10], Step [800/1875], Train Loss: 2.0328\n",
            "Epoch [6/10], Step [1200/1875], Train Loss: 2.0416\n",
            "Epoch [6/10], Step [1600/1875], Train Loss: 2.0781\n",
            "Validation - Epoch [6/10], Test Loss: 2.0475, Test Accuracy: 88.83%\n",
            "Epoch [6/10], Average Train Loss: 2.0520\n",
            "Epoch [7/10], Step [400/1875], Train Loss: 2.0685\n",
            "Epoch [7/10], Step [800/1875], Train Loss: 2.0779\n",
            "Epoch [7/10], Step [1200/1875], Train Loss: 2.0351\n",
            "Epoch [7/10], Step [1600/1875], Train Loss: 2.0332\n",
            "Validation - Epoch [7/10], Test Loss: 2.0464, Test Accuracy: 89.41%\n",
            "Epoch [7/10], Average Train Loss: 2.0507\n",
            "Epoch [8/10], Step [400/1875], Train Loss: 2.0329\n",
            "Epoch [8/10], Step [800/1875], Train Loss: 2.0676\n",
            "Epoch [8/10], Step [1200/1875], Train Loss: 2.0734\n",
            "Epoch [8/10], Step [1600/1875], Train Loss: 2.0331\n",
            "Validation - Epoch [8/10], Test Loss: 2.0455, Test Accuracy: 90.01%\n",
            "Epoch [8/10], Average Train Loss: 2.0497\n",
            "Epoch [9/10], Step [400/1875], Train Loss: 2.0311\n",
            "Epoch [9/10], Step [800/1875], Train Loss: 2.0314\n",
            "Epoch [9/10], Step [1200/1875], Train Loss: 2.0628\n",
            "Epoch [9/10], Step [1600/1875], Train Loss: 2.0705\n",
            "Validation - Epoch [9/10], Test Loss: 2.0448, Test Accuracy: 90.49%\n",
            "Epoch [9/10], Average Train Loss: 2.0494\n",
            "Epoch [10/10], Step [400/1875], Train Loss: 2.0330\n",
            "Epoch [10/10], Step [800/1875], Train Loss: 2.0317\n",
            "Epoch [10/10], Step [1200/1875], Train Loss: 2.0457\n",
            "Epoch [10/10], Step [1600/1875], Train Loss: 2.0611\n",
            "Validation - Epoch [10/10], Test Loss: 2.0442, Test Accuracy: 90.77%\n",
            "Epoch [10/10], Average Train Loss: 2.0475\n"
          ]
        }
      ]
    },
    {
      "cell_type": "markdown",
      "source": [
        "# Plotting preds"
      ],
      "metadata": {
        "id": "EVZg2tBCTlyZ"
      }
    },
    {
      "cell_type": "code",
      "source": [
        "model.eval()\n",
        "\n",
        "num_images = 14\n",
        "data_iter = iter(testloader)\n",
        "images, labels = next(data_iter)\n",
        "images, labels = images.to(device), labels.to(device)\n",
        "\n",
        "with torch.inference_mode():\n",
        "    outputs = model(images)\n",
        "    _, predicted = torch.max(outputs, 1)\n",
        "\n",
        "image_batch = images.cpu().numpy()\n",
        "label_batch = labels.cpu().numpy()\n",
        "predicted_batch = predicted.cpu().numpy()\n",
        "\n",
        "plt.figure(figsize=(14, 7))\n",
        "for idx in range(num_images):\n",
        "    plt.subplot(2, 7, idx + 1)\n",
        "    plt.imshow(np.transpose(image_batch[idx], (1, 2, 0)).squeeze(), cmap='gray')\n",
        "    plt.title(f'Label: {label_batch[idx]}, Pred: {predicted_batch[idx]}')\n",
        "    plt.axis('off')\n",
        "\n",
        "plt.tight_layout()\n",
        "plt.show()"
      ],
      "metadata": {
        "colab": {
          "base_uri": "https://localhost:8080/",
          "height": 539
        },
        "id": "dU49kJ0ZSyhI",
        "outputId": "ed1eaacb-78c5-479a-8305-dd462963e799"
      },
      "execution_count": 12,
      "outputs": [
        {
          "output_type": "display_data",
          "data": {
            "text/plain": [
              "<Figure size 1400x700 with 14 Axes>"
            ],
            "image/png": "[encoded data removed]"
          },
          "metadata": {}
        }
      ]
    }
  ]
}